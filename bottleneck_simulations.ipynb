{
 "cells": [
  {
   "cell_type": "code",
   "execution_count": null,
   "id": "b729c8d8",
   "metadata": {},
   "outputs": [],
   "source": [
    "# ===================================\n",
    "# SIMULATE THE EFFECT OF BOTTLENECKS\n",
    "# ===================================\n",
    "\n",
    "# Explaining the logic\n",
    "\n",
    "# Literature suggests (https://doi.org/10.1186/s12711-021-00680-9)\n",
    "# that seabream and seabass populations have experienced a strong bottleneck\n",
    "# about 5 (for seabream) and 10 (for seabass) generations ago, and\n",
    "# the effective population size was reduced \n",
    "# from about 1,000,000 to about 100 (in seabream), and\n",
    "# from about 10,000 to about 100 (in seabass)\n",
    "\n",
    "# Our goal here is to assess the influence of this bottleneck (random genetic drift)\n",
    "# on out observations of allele frequency differences between farmed and wild fish.\n",
    "\n",
    "# Assumptions:\n",
    "# (a) mutation rate is negligible: for 5-10 generations, and especially for the conserved candidate genes\n",
    "#                                  this is, we believe, a realistic scenario.\n",
    "# (b) no farmed escapees influencing the wild populations: this may not be very accurate, but if anything \n",
    "#                                  it would make our actual observations more conservative\n",
    "# (c) we will draw allele frequencies from the mean of the wild populations where farmed individuals derived from.\n",
    "# we believe this is a good approximation given the relatively decent effective population sizes \n",
    "# of the farmed populations prior the bottlenecks."
   ]
  },
  {
   "cell_type": "code",
   "execution_count": null,
   "id": "cecf0980",
   "metadata": {},
   "outputs": [],
   "source": [
    "# ============================\n",
    "# SIMULATE ON CANDIDATE GENES\n",
    "# ============================"
   ]
  },
  {
   "cell_type": "code",
   "execution_count": 79,
   "id": "0e7d8744",
   "metadata": {},
   "outputs": [
    {
     "name": "stdout",
     "output_type": "stream",
     "text": [
      "0 1 2 3 4 5 6 7 8 9 10 11 12 13 14 15 16 17 18 19 20 21 22 23 24 25 26 27 28 29 30 31 32 33 34 35 36 37 38 39 40 41 42 43 44 45 46 47 48 49 50 51 52 53 54 55 56 57 58 59 60 61 62 63 64 65 66 67 68 69 70 71 72 73 74 75 76 77 78 79 80 81 82 83 84 85 86 87 88 89 90 91 92 93 94 95 96 97 98 99 Proportion of significant findings for HOM_1 (p < 0.01): 0.0100\n",
      "Proportion of significant findings for HET (p < 0.01): 0.0300\n",
      "Proportion of significant findings for HOM_2 (p < 0.01): 0.0100\n"
     ]
    }
   ],
   "source": [
    "import random\n",
    "from scipy.stats import fisher_exact\n",
    "\n",
    "# Genotype and or Allele Frequencies\n",
    "GENOTYPES = [\"HOM_1\", \"HET\", \"HOM_2\"]\n",
    "FREQUENCIES = [0.24, 0.45, 0.31]\n",
    "\n",
    "# population sizes\n",
    "START_POPULATION_SIZE = 1_000_000\n",
    "END_POPULATION_SIZE = 100\n",
    "\n",
    "# number of simulations\n",
    "SIMULATIONS = 100\n",
    "\n",
    "# significance level\n",
    "SIGNIFICANCE_LEVEL = 0.01\n",
    "\n",
    "# Counter for significant findings\n",
    "significant_counts = {\"HOM_1\": 0, \"HET\": 0, \"HOM_2\": 0}\n",
    "\n",
    "# produce the initial population of size POPULATION_SIZE before the bottleneck\n",
    "# simulate the bottleneck\n",
    "for simulation in range(SIMULATIONS):\n",
    "\n",
    "    if simulation % 1 == 0:\n",
    "        print(simulation, end = \" \")\n",
    "    \n",
    "    start_population = random.choices(ELEMENTS, weights = FREQUENCIES, k = START_POPULATION_SIZE)\n",
    "    end_population = random.sample(start_population, END_POPULATION_SIZE)\n",
    "\n",
    "    # Create a contingency table for the Fisher's exact test\n",
    "    # Perform the Fisher's exact test\n",
    "    # If statistically significant, add to the counter\n",
    "    for genotype in GENOTYPES:       \n",
    "        observed_counts = [[start_population.count(genotype), START_POPULATION_SIZE - start_population.count(genotype)],\n",
    "                           [end_population.count(genotype), END_POPULATION_SIZE - end_population.count(genotype)]]\n",
    "        odds_ratio, p_value = fisher_exact(observed_counts)\n",
    "        if p_value < SIGNIFICANCE_LEVEL:\n",
    "            significant_counts[genotype] += 1\n",
    "\n",
    "proportion_significant = {}\n",
    "for genotype in ELEMENTS:\n",
    "    proportion_significant[genotype] = significant_counts[genotype] / SIMULATIONS\n",
    "\n",
    "for genotype in ELEMENTS:\n",
    "    print(f\"Proportion of significant findings for {genotype} (p < {SIGNIFICANCE_LEVEL}): {proportion_significant[genotype]:.4f}\")"
   ]
  },
  {
   "cell_type": "code",
   "execution_count": 77,
   "id": "a0881248",
   "metadata": {},
   "outputs": [
    {
     "data": {
      "text/plain": [
       "{'HOM_1': 7, 'HET': 6, 'HOM_2': 7}"
      ]
     },
     "execution_count": 77,
     "metadata": {},
     "output_type": "execute_result"
    }
   ],
   "source": [
    "significant_counts"
   ]
  }
 ],
 "metadata": {
  "kernelspec": {
   "display_name": "Python 3 (ipykernel)",
   "language": "python",
   "name": "python3"
  },
  "language_info": {
   "codemirror_mode": {
    "name": "ipython",
    "version": 3
   },
   "file_extension": ".py",
   "mimetype": "text/x-python",
   "name": "python",
   "nbconvert_exporter": "python",
   "pygments_lexer": "ipython3",
   "version": "3.9.16"
  }
 },
 "nbformat": 4,
 "nbformat_minor": 5
}
